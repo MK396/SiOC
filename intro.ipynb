import numpy as np
import matplotlib.pyplot as plt
import cv2
img1 = plt.imread('/pies.jpg')
plt.imshow(img1)
